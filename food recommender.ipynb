{
 "cells": [
  {
   "cell_type": "code",
   "execution_count": 1,
   "metadata": {},
   "outputs": [
    {
     "name": "stdout",
     "output_type": "stream",
     "text": [
      "Enter the food you like: Jolly Time Popcorn\n",
      "['Jolly Time Popcorn']\n",
      "[\"Lay's Stax, Pizza, 5.5 Oz\"]\n",
      "['Jolly Time All-in-One Popcorn Kernel']\n",
      "['Jolly Time Pop Corn, Yellow Kernels, 2lb']\n",
      "['Gatorade Thirst Quencher Powder Packet G - Lemon Lime (8 per pack)']\n",
      "['Ice Breakers Ice Cubes Spearmint Sugar-free Gum - 40pc']\n",
      "['Cafe Mocha M&M Holiday Gift Tin']\n",
      "['Nips Sugar Free Caramel Candy']\n",
      "['Jolly Rancher Hard Candy Original Flavors - 3.75lb']\n",
      "['Royal Orange Gelatin, 1.4 oz']\n",
      "[\"Dunkin' Donuts174 Hazelnut Light Roast Ground Coffee - 12oz\"]\n",
      "['Candy Blox Blocks 3 Pounds']\n",
      "['Reeses Pieces Peanut Butter Candy in a Crunchy Shell']\n",
      "['Cornnuts Ranch Bag']\n",
      "['Peanut Butter, 14 oz']\n",
      "[\"M&M's Pink: 10 LBS\"]\n",
      "[\"M&m's Honey Nut Peanut Chocolate Candy Bag, 10.2 Oz\"]\n",
      "['Gatorade G Series Lemon-lime (76.5 Oz/makes 9 Gallons)']\n",
      "['Gatorade G Series Perform Lemon-Lime Sports Drink Powder, 50.9 oz']\n",
      "['Pixy Sticks Bulk (2 lb Bag)']\n",
      "['MMs Peanut Butter Chocolate Candies']\n"
     ]
    }
   ],
   "source": [
    "import pandas as pd\n",
    "import numpy as np\n",
    "import matplotlib.pyplot as plt\n",
    "import urllib.request as urllib2\n",
    "import csv\n",
    "from sklearn.feature_extraction.text import CountVectorizer\n",
    "from sklearn.metrics.pairwise import cosine_similarity\n",
    "from sklearn.feature_extraction import FeatureHasher\n",
    "fh=FeatureHasher(n_features=9208,input_type='string')\n",
    "cv=CountVectorizer()\n",
    "def get_index(title):\n",
    "    return data[data[\"title\"]==title][\"index\"].values\n",
    "def get_title(index):\n",
    "    return data[data[\"index\"]==index][\"title\"].values\n",
    "    \n",
    "\n",
    "\n",
    "\n",
    "data=pd.read_csv(r\"https://raw.githubusercontent.com/syedayazsa/data/master/food_items.csv\")\n",
    "\n",
    "#data=html.decode('utf-8')\n",
    "\n",
    "data.drop(['Unnamed: 6', 'Unnamed: 7','manufacturer', 'Unnamed: 8', 'Unnamed: 9', 'Unnamed: 10','Unnamed: 11', 'Unnamed: 12', 'Unnamed: 13', 'Unnamed: 14','Unnamed: 15', 'Unnamed: 16', 'Unnamed: 17', 'Unnamed: 18','Unnamed: 19', 'Unnamed: 20', 'Unnamed: 21', 'Unnamed: 22','Unnamed: 23', 'Unnamed: 24', 'Unnamed: 25', 'Unnamed: 26','Unnamed: 27', 'Unnamed: 28', 'Unnamed: 29'],axis=1,inplace=True)\n",
    "data.set_index(data['index'],inplace=True,drop=True)\n",
    "#data.drop(['index'],axis=1,inplace=True)\n",
    "\n",
    "data=data.astype(str)\n",
    "featurs=[\"ingredients\",\"brand\"]\n",
    "def combine_features(row):\n",
    "    try:\n",
    "        return row[\"ingredients\"]+\" \"+row[\"brand\"]\n",
    "    except:\n",
    "        print(\"Error: \",row)\n",
    "data[\"final\"]=data.apply(combine_features,axis=1)\n",
    "cm=cv.fit_transform(data[\"final\"])\n",
    "cosine=cosine_similarity(cm)\n",
    "fv=input(\"Enter the food you like: \")\n",
    "oi=get_index(fv)\n",
    "\n",
    "foods=list(enumerate(cosine[int(oi[0])]))\n",
    "sort_list=sorted(foods,key=lambda x:x[1],reverse=True)\n",
    "i=0\n",
    "for element in sort_list:\n",
    "    print(get_title(str(element[0])))\n",
    "    i=i+1\n",
    "    if(i>20):\n",
    "        break"
   ]
  },
  {
   "cell_type": "code",
   "execution_count": null,
   "metadata": {},
   "outputs": [],
   "source": []
  }
 ],
 "metadata": {
  "kernelspec": {
   "display_name": "Python 3",
   "language": "python",
   "name": "python3"
  },
  "language_info": {
   "codemirror_mode": {
    "name": "ipython",
    "version": 3
   },
   "file_extension": ".py",
   "mimetype": "text/x-python",
   "name": "python",
   "nbconvert_exporter": "python",
   "pygments_lexer": "ipython3",
   "version": "3.7.6"
  }
 },
 "nbformat": 4,
 "nbformat_minor": 4
}
